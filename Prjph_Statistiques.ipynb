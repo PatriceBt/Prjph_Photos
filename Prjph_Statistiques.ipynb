{
 "cells": [
  {
   "cell_type": "markdown",
   "metadata": {},
   "source": [
    "# Projet Photos - Création des statistiques"
   ]
  },
  {
   "cell_type": "markdown",
   "metadata": {},
   "source": [
    "Récupération des données de la base mongodb\n",
    "\n",
    "- Mise sous dataframe\n",
    "\n",
    "- Statistiques\n",
    "\n",
    "- Visualisations\n"
   ]
  },
  {
   "cell_type": "markdown",
   "metadata": {},
   "source": [
    "## Avancement\n",
    "\n",
    "### Réalisé\n",
    "\n",
    "- affichage données début\n",
    "\n",
    "- récupération des données mongodb dans un dataframe (par découpage possible)\n",
    "\n",
    "### A venir\n",
    "\n",
    "- Calcul et présentation des statistiques suivantes\n",
    "\n",
    "    - Nombre de fichiers + volume (cumul des tailles) par : \n",
    "    \n",
    "        .année\n",
    "        \n",
    "        .mois\n",
    "        \n",
    "        .jour\n",
    "        \n",
    "        .catégorie de fichier (image, vidéo)\n",
    "        \n",
    "        .type de fichier\n",
    "        \n",
    "        .répertoire initial\n",
    "        \n",
    "        \n",
    "    NB : il faut pouvoir croiser les résultats\n",
    "        \n",
    "        \n",
    "        \n",
    "        \n",
    "        \n",
    "        \n",
    "        "
   ]
  },
  {
   "cell_type": "markdown",
   "metadata": {},
   "source": [
    "# Import"
   ]
  },
  {
   "cell_type": "code",
   "execution_count": 12,
   "metadata": {},
   "outputs": [],
   "source": [
    "import os\n",
    "import datetime as dt\n",
    "from datetime import datetime\n",
    "import pandas as pd\n",
    "\n",
    "#Pour mongodb\n",
    "import pymongo\n"
   ]
  },
  {
   "cell_type": "markdown",
   "metadata": {},
   "source": [
    "# Fonctions"
   ]
  },
  {
   "cell_type": "markdown",
   "metadata": {},
   "source": [
    "### A mettre en module ?"
   ]
  },
  {
   "cell_type": "code",
   "execution_count": 15,
   "metadata": {},
   "outputs": [],
   "source": [
    "#Fonction de calcul du nombre et de la taille totale des fichiers catalgués dans la base\n",
    "\n",
    "# ! CETTE FONCTION EST UNE COPIE DE CELLE PRESENTE DANS CATALOGUE -\n",
    "\n",
    "def fnph_clc_nb_st_size_tot(parm_collection):\n",
    "    \"\"\"\n",
    "    Fonction de calcul du nombre et de la taille totale des fichiers catalgués dans la base\n",
    "    retourne une liste de deux éléments : taille, nombre\n",
    "    \"\"\"\n",
    "    #Requête aggrégation\n",
    "    totalSize = parm_collection.aggregate(\n",
    "       [\n",
    "         {\n",
    "           \"$group\":\n",
    "             {\n",
    "               \"_id\"        : \"\",\n",
    "               \"totalSize\"  : { \"$sum\": \"$stats.st_size\" },\n",
    "               \"count\"      : { \"$sum\": 1 }\n",
    "             }\n",
    "         }\n",
    "       ]\n",
    "    )\n",
    "\n",
    "    \n",
    "    reslist=list(totalSize)[0]\n",
    "    result=[reslist['totalSize'], reslist['count']]\n",
    "    return(result)"
   ]
  },
  {
   "cell_type": "markdown",
   "metadata": {},
   "source": [
    "### Nouvelles fonctions"
   ]
  },
  {
   "cell_type": "code",
   "execution_count": 378,
   "metadata": {},
   "outputs": [],
   "source": [
    "#JE GARDE CETTE SOLUTION - A VOIR ENSUITE COMMENT L'UTILISER (choix de la taille du chunk)\n",
    "def fnph_read_mongodb(\n",
    "           parm_db, \n",
    "           parm_collection, parm_query={}, \n",
    "           parm_host='localhost', parm_port=27017, \n",
    "           parm_username=None, parm_password=None,\n",
    "           parm_chunksize = 100, parm_no_id=True):\n",
    "    \"\"\" Read from Mongo and Store into DataFrame \"\"\"\n",
    "\n",
    "    # Connect to MongoDB\n",
    "    db = _connect_mongo(host='localhost', port=27017, username=None, password=None, db=mydb_name)\n",
    "    \n",
    "    client = MongoClient(host=parm_host, port=parm_port)\n",
    "    # Make a query to the specific DB and Collection\n",
    "    db_aux = client[parm_db]\n",
    "\n",
    "    # Some variables to create the chunks\n",
    "    nb_enr = db_aux[parm_collection].find(parm_query).count()\n",
    "    skips_variable = range(0, nb_enr, int(parm_chunksize))\n",
    "    \n",
    "    if len(skips_variable)<=1: #en fait il ne peut être qu'égal à 1 au minimum ou à 0 si la base est vide\n",
    "        skips_variable = [0,nb_enr]\n",
    "\n",
    "    # Iteration to create the dataframe in chunks.\n",
    "    for i in range(1,len(skips_variable)):\n",
    "        # Expand the cursor and construct the DataFrame\n",
    "        df_aux =pd.DataFrame(list(db_aux[parm_collection].find(parm_query)[skips_variable[i-1]:skips_variable[i]]))\n",
    "\n",
    "        if parm_no_id:\n",
    "            del df_aux['_id']\n",
    "\n",
    "        # Concatenate the chunks into a unique df\n",
    "        if 'df' not in locals():\n",
    "            df =  df_aux\n",
    "        else:\n",
    "            df = pd.concat([df, df_aux], ignore_index=True)\n",
    "            \n",
    "    deb=(len(skips_variable)-1)*parm_chunksize\n",
    "    fin=nb_enr\n",
    "    df_aux =pd.DataFrame(list(db_aux[parm_collection].find(parm_query)[deb:fin]))\n",
    "    if 'df' not in locals():\n",
    "        df =  df_aux\n",
    "    else:\n",
    "        df = pd.concat([df, df_aux], ignore_index=True)\n",
    "    \n",
    "\n",
    "    return df"
   ]
  },
  {
   "cell_type": "markdown",
   "metadata": {},
   "source": [
    "# Traitement principal"
   ]
  },
  {
   "cell_type": "code",
   "execution_count": 376,
   "metadata": {},
   "outputs": [
    {
     "name": "stdout",
     "output_type": "stream",
     "text": [
      "\n",
      "           global_unique_id: 1603145475.172059 \n",
      "\n",
      "start..................... :  2020-10-20 00:11:15.173055 \n",
      "\n",
      "\n",
      "**** Collection            : images_videos ****\n",
      "\n",
      "****\n",
      "****\n",
      "****\n",
      "****\n",
      "****\n",
      "[178924637297, 72360]\n"
     ]
    },
    {
     "name": "stderr",
     "output_type": "stream",
     "text": [
      "<ipython-input-338-09b3dbfb1a13>:24: DeprecationWarning: count is deprecated. Use Collection.count_documents instead.\n",
      "  nb_enr = db_aux[parm_collection].find(parm_query).count()\n"
     ]
    },
    {
     "name": "stdout",
     "output_type": "stream",
     "text": [
      "\n",
      "done----------------------------------------\n",
      "df_data.shape=(72360, 10)\n",
      "Durée du traitement               : 0:00:06.203483\n",
      "done----------------------------------------\n",
      "prjph_df_log_stats__1603145475_172059__images_videos__.csv saved into C:\\Users\\LENOVO\\Documents\\Projets\\Prj_photos\\Prjph_log\n",
      "\n",
      "ended..................... :  2020-10-20 00:11:21.376538 \n",
      "\n",
      "Wall time: 6.25 s\n"
     ]
    }
   ],
   "source": [
    "%%time\n",
    "#Programme principal\n",
    "\n",
    "#----------------------------------------------------------------------------------------------------------\n",
    "#description :\n",
    "\n",
    "# Préparation\n",
    "# - Accès à la bd mongdodb\n",
    "# - Récupération des données dans un df (par découpage pour gérer vitesse vs utilisation mémoire)\n",
    "\n",
    "# Obtention des statistiques\n",
    "\n",
    "# Présentation des statistiques\n",
    "#----------------------------------------------------------------------------------------------------------\n",
    "\n",
    "\n",
    "#Paramètres utilisateurs***********************************************************************************\n",
    "#Paramètres utilisateurs***********************************************************************************\n",
    "#Paramètres utilisateurs***********************************************************************************\n",
    "#Libellé traitement 1<<<<<<<<<<<<<<<<<<<<<<<<<<<<<<<<<<<<<<<<<<<<<<<<<<<<<<<<<<<<<<<<<<<<<<<<<<<<<<<<<<<<<<\n",
    "montitre_traitement=\"Stats - Premier traitement\"\n",
    "\n",
    "#Répertoire de sauvegarde de l'historique du traitement\n",
    "parm_df_log_rep = r'C:\\Users\\LENOVO\\Documents\\Projets\\Prj_photos\\Prjph_log'\n",
    "\n",
    "#Paramètres de connexion\n",
    "#------ Base  -------------------*\n",
    "#connection au serveur mongodb 27017, base test\n",
    "client = pymongo.MongoClient('localhost',27017)\n",
    "mydb = client[\"prjph_catalogue\"]\n",
    "mydb_name = \"prjph_catalogue\"\n",
    "mycollection_name = \"test_documents\"        #TEST\n",
    "#mycollection_name = \"images_videos\"          #PREPROD\n",
    "#------ ---------- -------------------*\n",
    "mycollection = mydb[mycollection_name]\n",
    "#-------------------------------------*\n",
    "\n",
    "#----------------\n",
    "#DEBUT TRAITEMENT\n",
    "#----------------\n",
    "\n",
    "#----------------\n",
    "#initialisations\n",
    "#----------------\n",
    "\n",
    "#Compteurs\n",
    "\n",
    "#init le df historique des répertoires traités\n",
    "df_log=pd.DataFrame(columns=['unique_id','time','rep_explored','nb_sous_rep', 'nb_of_files', 'nb_of_files_cumul', 'comment'])          #df contenant la liste des répertoires traités\n",
    "\n",
    "\n",
    "#global_unique_id : Variable de valeur unique pour rsgner unique_id lors des différents appels\n",
    "strtimestamp = str(datetime.timestamp(datetime.now()))\n",
    "global_unique_id = strtimestamp\n",
    "print('\\n           global_unique_id:', global_unique_id,'\\n')\n",
    "\n",
    "#------------\n",
    "# TRAITEMENT\n",
    "#------------\n",
    "start_time=datetime.now()\n",
    "print('start..................... : ', start_time, '\\n')\n",
    "\n",
    "print(\"\\n**** Collection            :\", mycollection_name, \"****\\n\")\n",
    "print(\"****\")\n",
    "print(\"****\")\n",
    "print(\"****\")\n",
    "print(\"****\")\n",
    "print(\"****\")\n",
    "\n",
    "#Volume de la base : \n",
    "print(fnph_clc_nb_st_size_tot(mycollection))\n",
    "\n",
    "#Stockage en dataframe\n",
    "df_data = read_mongo2(mydb_name, mycollection_name, parm_chunksize=mychunksize, parm_no_id=False)\n",
    "\n",
    "    \n",
    "#ajout de la ligne start dans df_log \n",
    "#rmq : nb_sous_rep et nb_of_files sont les documents à la racine du répertoire, pas le total\n",
    "df_log=df_log.append({'unique_id'   :global_unique_id,\n",
    "                      'time'        :str(datetime.now()),\n",
    "                      'rep_explored':\" <--- début de traitement - <\"+montitre_traitement+\">-->\",\n",
    "                      'comment'     :\"start \"}, ignore_index=True)\n",
    "\n",
    "\n",
    "# --------------------\n",
    "# FIN DE TRAITEMENT\n",
    "# --------------------\n",
    "\n",
    "#-----------------------------------------------------------------------------\n",
    "msg    = ['']*12\n",
    "end_time=datetime.now()\n",
    "msg[0] = '\\ndone----------------------------------------'\n",
    "msg[1] = 'df_data.shape=' + str(df_data.shape)\n",
    "msg[2] = ''\n",
    "msg[3] = ''\n",
    "msg[4] = ''\n",
    "#msg[5] = 'taille ttle des fichiers en base  : ' + str(var_tailletot)\n",
    "#msg[6] = 'nombre ttl de  documents en base  : ' + str(var_nbtot)\n",
    "msg[7] = 'Durée du traitement               : ' + str(end_time - start_time)\n",
    "msg[8] = ''\n",
    "msg[9] = ''\n",
    "msg[10] = 'done----------------------------------------'\n",
    "for i in range(len(msg)):\n",
    "    if msg[i]!='':\n",
    "        print(msg[i])\n",
    "\n",
    "#Stockage de la fin de traitement dans l'historique df_log.\n",
    "for i in range(len(msg)):\n",
    "    if msg[i]!=\"\":\n",
    "        df_log=df_log.append({'unique_id'   : global_unique_id,\n",
    "                              'time'        : str(end_time),\n",
    "                              'comment'     : msg[i]}, ignore_index=True)\n",
    "\n",
    "#Sauvegarde du df_log - nom complété de la collection et nom du répertoire exploré\n",
    "dnow = datetime.now()\n",
    "strtimestamp = str(datetime.timestamp(dnow)).replace('.','_')\n",
    "mypathlog=r'C:\\Users\\LENOVO\\Documents\\Projets\\Prj_photos\\Prjph_log'\n",
    "\n",
    "df_log_filename= 'prjph_df_log_stats__' +                                   \\\n",
    "                    global_unique_id.replace('.','_') + \"__\" +        \\\n",
    "                    mycollection_name + \"__\" +                        \\\n",
    "                 '.csv' #référencement avec global_unique_id utilisé pour référencer les documents dans la base.\n",
    "df_log.to_csv(os.path.join(mypathlog,df_log_filename), sep='\\t')\n",
    "print(df_log_filename, 'saved into', mypathlog)\n",
    "\n",
    "print('\\nended..................... : ', end_time, '\\n')\n",
    "\n",
    "#Programme principal fin\n",
    "\n"
   ]
  },
  {
   "cell_type": "markdown",
   "metadata": {},
   "source": [
    "# Tests"
   ]
  },
  {
   "cell_type": "code",
   "execution_count": 394,
   "metadata": {},
   "outputs": [
    {
     "name": "stderr",
     "output_type": "stream",
     "text": [
      "<timed exec>:5: DeprecationWarning: count is deprecated. Use Collection.count_documents instead.\n",
      "<ipython-input-378-ac461cf54111>:18: DeprecationWarning: count is deprecated. Use Collection.count_documents instead.\n",
      "  nb_enr = db_aux[parm_collection].find(parm_query).count()\n"
     ]
    },
    {
     "name": "stdout",
     "output_type": "stream",
     "text": [
      "5000 0:00:06.765017\n",
      "10000 0:00:04.181642\n",
      "15000 0:00:05.566068\n",
      "20000 0:00:05.795069\n",
      "25000 0:00:05.426207\n",
      "30000 0:00:05.089753\n",
      "35000 0:00:03.520802\n",
      "40000 0:00:04.762869\n",
      "45000 0:00:04.824393\n",
      "50000 0:00:04.911214\n",
      "55000 0:00:03.573816\n",
      "60000 0:00:05.133340\n",
      "65000 0:00:04.894628\n",
      "70000 0:00:04.827343\n",
      "Wall time: 1min 9s\n"
     ]
    },
    {
     "data": {
      "text/plain": [
       "(14, 3)"
      ]
     },
     "execution_count": 394,
     "metadata": {},
     "output_type": "execute_result"
    }
   ],
   "source": [
    "%%time\n",
    "#Test de fnph_read_mongodb avec graphique pour évaluer la bonne taille des 'chunks'\n",
    "df_graph=pd.DataFrame(columns=['date','size','timelaps'])\n",
    "\n",
    "#variables de test\n",
    "tot_enr = mydb[mycollection_name].find({}).count()\n",
    "mysize  = 5000\n",
    "\n",
    "#Traitement\n",
    "mydate=datetime.now()\n",
    "for i_size in list(range(0,tot_enr,mysize))[1:]:\n",
    "    mychunksize=i_size\n",
    "    start=datetime.now()\n",
    "    #dftest4 = read_mongo2(mydb_name, mycollection_name, parm_chunksize=mychunksize, parm_no_id=False)\n",
    "    dftest4 = fnph_read_mongodb(mydb_name, mycollection_name, parm_chunksize=mychunksize, parm_no_id=False)\n",
    "    end  = datetime.now()\n",
    "    timelaps=end-start\n",
    "    print(i_size, timelaps)\n",
    "    df_graph = df_graph.append({ 'date':mydate, 'size':i_size, 'timelaps': timelaps}, ignore_index=True) \n",
    "    dftest4.shape\n",
    "    \n",
    "df_graph.shape, tot_enr"
   ]
  },
  {
   "cell_type": "code",
   "execution_count": 395,
   "metadata": {},
   "outputs": [
    {
     "data": {
      "image/png": "[encoded data removed]",
      "text/plain": [
       "<Figure size 432x288 with 1 Axes>"
      ]
     },
     "metadata": {
      "needs_background": "light"
     },
     "output_type": "display_data"
    }
   ],
   "source": [
    "df_graph.iloc[:,1:].plot()\n",
    "\n",
    "stamp = str(datetime.timestamp(dnow)).replace('.','_')\n",
    "\n",
    "df_graph_filename= 'prjph_df_graph__' +                                   \\\n",
    "                    mycollection_name + \"__\" +                        \\\n",
    "                    stamp + \\\n",
    "                   '.csv'\n",
    "df_graph_filename\n",
    "df_graph.to_csv(os.path.join(mypathlog,df_graph_filename), sep='\\t')\n"
   ]
  }
 ],
 "metadata": {
  "kernelspec": {
   "display_name": "Python 3",
   "language": "python",
   "name": "python3"
  },
  "language_info": {
   "codemirror_mode": {
    "name": "ipython",
    "version": 3
   },
   "file_extension": ".py",
   "mimetype": "text/x-python",
   "name": "python",
   "nbconvert_exporter": "python",
   "pygments_lexer": "ipython3",
   "version": "3.8.5"
  }
 },
 "nbformat": 4,
 "nbformat_minor": 4
}
